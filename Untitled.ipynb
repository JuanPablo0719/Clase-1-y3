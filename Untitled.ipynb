{
 "cells": [
  {
   "cell_type": "markdown",
   "id": "ed8a1602",
   "metadata": {},
   "source": [
    "  # Portafolios de Inversion\n",
    "\n"
   ]
  },
  {
   "cell_type": "markdown",
   "id": "1caa46e4",
   "metadata": {},
   "source": [
    "- Nombre\n",
    "\n",
    "*Juan Pablo Dominguez*\n",
    "\n",
    "- Cosas que les gustan de la carera\n",
    "\n",
    "*Ing. Financiera*\n",
    "\n",
    "- Cosas que no les gustan de la carrera\n",
    "\n",
    "*Los horarios de la clases, que no existe una materia que nos ayude a aprender VBA, quitaron el vaije a NY.*\n",
    "\n",
    "- Que esperan de la materia\n",
    "\n",
    "*Saber diversificar mis ingresos por medio de inversiones.*"
   ]
  },
  {
   "cell_type": "markdown",
   "id": "3600021e",
   "metadata": {},
   "source": [
    "Resumen de uno de los artículos expuestos en el notebook"
   ]
  },
  {
   "cell_type": "markdown",
   "id": "5bf4a8bb",
   "metadata": {},
   "source": [
    "**En el archivo que nos compartio habla acerca de como calcular la Esperanza, desviacion estandar y varianza. dando muchos ejemplos relacionados con las finanzas. las formulas de probabilidad son un poco complejas pero si me ayudo a recordar un poco sobre probabilidad y estadistica y un poco sobre Calculo Estocastico.**\n"
   ]
  },
  {
   "cell_type": "code",
   "execution_count": null,
   "id": "9ce7a367",
   "metadata": {},
   "outputs": [],
   "source": []
  }
 ],
 "metadata": {
  "kernelspec": {
   "display_name": "Python 3 (ipykernel)",
   "language": "python",
   "name": "python3"
  },
  "language_info": {
   "codemirror_mode": {
    "name": "ipython",
    "version": 3
   },
   "file_extension": ".py",
   "mimetype": "text/x-python",
   "name": "python",
   "nbconvert_exporter": "python",
   "pygments_lexer": "ipython3",
   "version": "3.9.13"
  }
 },
 "nbformat": 4,
 "nbformat_minor": 5
}
